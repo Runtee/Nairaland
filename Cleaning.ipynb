{
 "cells": [
  {
   "cell_type": "markdown",
   "metadata": {},
   "source": [
    "importing relevant libraries     "
   ]
  },
  {
   "cell_type": "code",
   "execution_count": null,
   "metadata": {
    "id": "bqlMhluyUhwL"
   },
   "outputs": [],
   "source": [
    "import numpy as np\n",
    "import pandas as pd \n",
    "import re"
   ]
  },
  {
   "cell_type": "markdown",
   "metadata": {},
   "source": [
    "importing the scrapped data"
   ]
  },
  {
   "cell_type": "code",
   "execution_count": null,
   "metadata": {
    "colab": {
     "base_uri": "https://localhost:8080/",
     "height": 1000
    },
    "id": "ZeyT1SwmUhw-",
    "outputId": "d8e9d797-cd0a-4c6a-e445-1a096100366f",
    "scrolled": true
   },
   "outputs": [
    {
     "data": {
      "text/html": [
       "<div>\n",
       "<style scoped>\n",
       "    .dataframe tbody tr th:only-of-type {\n",
       "        vertical-align: middle;\n",
       "    }\n",
       "\n",
       "    .dataframe tbody tr th {\n",
       "        vertical-align: top;\n",
       "    }\n",
       "\n",
       "    .dataframe thead th {\n",
       "        text-align: right;\n",
       "    }\n",
       "</style>\n",
       "<table border=\"1\" class=\"dataframe\">\n",
       "  <thead>\n",
       "    <tr style=\"text-align: right;\">\n",
       "      <th></th>\n",
       "      <th>location</th>\n",
       "      <th>author</th>\n",
       "      <th>date</th>\n",
       "    </tr>\n",
       "  </thead>\n",
       "  <tbody>\n",
       "    <tr>\n",
       "      <th>0</th>\n",
       "      <td>Nairaland Forum / Nairaland / General / Politi...</td>\n",
       "      <td>ikorodureporta</td>\n",
       "      <td>6:32am</td>\n",
       "    </tr>\n",
       "    <tr>\n",
       "      <th>1</th>\n",
       "      <td>Nairaland Forum / Entertainment / Sports  / Aj...</td>\n",
       "      <td>naptu2</td>\n",
       "      <td>8:15am On Dec 29</td>\n",
       "    </tr>\n",
       "    <tr>\n",
       "      <th>2</th>\n",
       "      <td>Nairaland Forum / Nairaland / General / Educat...</td>\n",
       "      <td>vicmbosowo</td>\n",
       "      <td>10:01pm On Dec 28</td>\n",
       "    </tr>\n",
       "    <tr>\n",
       "      <th>3</th>\n",
       "      <td>Nairaland Forum / Nairaland / General / Busine...</td>\n",
       "      <td>Palmerbarry</td>\n",
       "      <td>8:10pm On Dec 28</td>\n",
       "    </tr>\n",
       "    <tr>\n",
       "      <th>4</th>\n",
       "      <td>Nairaland Forum / Nairaland / General / Travel...</td>\n",
       "      <td>Easyincome24</td>\n",
       "      <td>10:07am On Dec 28</td>\n",
       "    </tr>\n",
       "    <tr>\n",
       "      <th>...</th>\n",
       "      <td>...</td>\n",
       "      <td>...</td>\n",
       "      <td>...</td>\n",
       "    </tr>\n",
       "    <tr>\n",
       "      <th>24262</th>\n",
       "      <td>Nairaland Forum / Nairaland / General / Travel...</td>\n",
       "      <td>AllNews1</td>\n",
       "      <td>4:45am On Jan 04</td>\n",
       "    </tr>\n",
       "    <tr>\n",
       "      <th>24263</th>\n",
       "      <td>Nairaland Forum / Entertainment / Celebrities ...</td>\n",
       "      <td>hotmediatv</td>\n",
       "      <td>5:31am On Jan 04</td>\n",
       "    </tr>\n",
       "    <tr>\n",
       "      <th>24264</th>\n",
       "      <td>Nairaland Forum / Nairaland / General / Politi...</td>\n",
       "      <td>Sunofgod</td>\n",
       "      <td>1:41am On Jan 04</td>\n",
       "    </tr>\n",
       "    <tr>\n",
       "      <th>24265</th>\n",
       "      <td>Nairaland Forum / Nairaland / General / Politi...</td>\n",
       "      <td>Explorers</td>\n",
       "      <td>9:18pm On Jan 03</td>\n",
       "    </tr>\n",
       "    <tr>\n",
       "      <th>24266</th>\n",
       "      <td>Nairaland Forum / Nairaland / General / Busine...</td>\n",
       "      <td>Osaze007</td>\n",
       "      <td>10:13pm On Jan 03</td>\n",
       "    </tr>\n",
       "  </tbody>\n",
       "</table>\n",
       "<p>24267 rows × 3 columns</p>\n",
       "</div>"
      ],
      "text/plain": [
       "                                                location  ...               date\n",
       "0      Nairaland Forum / Nairaland / General / Politi...  ...             6:32am\n",
       "1      Nairaland Forum / Entertainment / Sports  / Aj...  ...   8:15am On Dec 29\n",
       "2      Nairaland Forum / Nairaland / General / Educat...  ...  10:01pm On Dec 28\n",
       "3      Nairaland Forum / Nairaland / General / Busine...  ...   8:10pm On Dec 28\n",
       "4      Nairaland Forum / Nairaland / General / Travel...  ...  10:07am On Dec 28\n",
       "...                                                  ...  ...                ...\n",
       "24262  Nairaland Forum / Nairaland / General / Travel...  ...   4:45am On Jan 04\n",
       "24263  Nairaland Forum / Entertainment / Celebrities ...  ...   5:31am On Jan 04\n",
       "24264  Nairaland Forum / Nairaland / General / Politi...  ...   1:41am On Jan 04\n",
       "24265  Nairaland Forum / Nairaland / General / Politi...  ...   9:18pm On Jan 03\n",
       "24266  Nairaland Forum / Nairaland / General / Busine...  ...  10:13pm On Jan 03\n",
       "\n",
       "[24267 rows x 3 columns]"
      ]
     },
     "execution_count": 3,
     "metadata": {
      "tags": []
     },
     "output_type": "execute_result"
    }
   ],
   "source": [
    "df = pd.read_csv('df2.csv', lineterminator='\\n',engine= 'c')\n",
    "df"
   ]
  },
  {
   "cell_type": "markdown",
   "metadata": {},
   "source": [
    "Checking rows with missing values\n",
    "<p>From the code in the data mining, in the scraping function, I expected attribute error and returned any missing value with 9999.</p> <p> So I want to check the row with 9999 instead of the normal information required.\n"
   ]
  },
  {
   "cell_type": "code",
   "execution_count": null,
   "metadata": {
    "colab": {
     "base_uri": "https://localhost:8080/"
    },
    "id": "a5XiqFmeUhxM",
    "outputId": "b1b19624-d413-4e1a-8f4b-c5293ab8ac16"
   },
   "outputs": [
    {
     "data": {
      "text/plain": [
       "Int64Index([ 1562,  1734,  4897,  5224,  5226,  5300,  5527,  5535,  6539,\n",
       "             6544,  7457,  9657, 10122, 10614, 11073, 11332, 11409, 11442,\n",
       "            14090, 14755, 14821, 15022, 15320, 17629, 18189, 18495, 18810,\n",
       "            19722, 21048, 21470, 22133, 22187, 22548, 23999],\n",
       "           dtype='int64')"
      ]
     },
     "execution_count": 7,
     "metadata": {
      "tags": []
     },
     "output_type": "execute_result"
    }
   ],
   "source": [
    "rows =df[(df['location']=='9999') | (df['author']=='9999') | (df['date']=='9999')].index\n",
    "rows"
   ]
  },
  {
   "cell_type": "markdown",
   "metadata": {},
   "source": [
    "dropping the rows with missing values "
   ]
  },
  {
   "cell_type": "code",
   "execution_count": null,
   "metadata": {
    "id": "M7hf9Jww7COw"
   },
   "outputs": [],
   "source": [
    " df_clean = df.drop(rows, axis =0)"
   ]
  },
  {
   "cell_type": "code",
   "execution_count": null,
   "metadata": {
    "colab": {
     "base_uri": "https://localhost:8080/"
    },
    "id": "w16JfAJ47JFT",
    "outputId": "972a6f0b-45a7-43c3-c3e1-8267b676dd56"
   },
   "outputs": [
    {
     "data": {
      "text/plain": [
       "location    0\n",
       "author      0\n",
       "date        0\n",
       "dtype: int64"
      ]
     },
     "execution_count": 51,
     "metadata": {
      "tags": []
     },
     "output_type": "execute_result"
    }
   ],
   "source": [
    " df_clean= df_clean.dropna(axis =0).reset_index(drop = True)\n",
    " \n",
    "df_clean.isnull().sum()"
   ]
  },
  {
   "cell_type": "code",
   "execution_count": null,
   "metadata": {
    "colab": {
     "base_uri": "https://localhost:8080/",
     "height": 1000
    },
    "id": "cmW4FBIKUhxa",
    "outputId": "0f7c414c-e047-45e6-a359-43957bada7cc"
   },
   "outputs": [
    {
     "data": {
      "text/html": [
       "<div>\n",
       "<style scoped>\n",
       "    .dataframe tbody tr th:only-of-type {\n",
       "        vertical-align: middle;\n",
       "    }\n",
       "\n",
       "    .dataframe tbody tr th {\n",
       "        vertical-align: top;\n",
       "    }\n",
       "\n",
       "    .dataframe thead th {\n",
       "        text-align: right;\n",
       "    }\n",
       "</style>\n",
       "<table border=\"1\" class=\"dataframe\">\n",
       "  <thead>\n",
       "    <tr style=\"text-align: right;\">\n",
       "      <th></th>\n",
       "      <th>location</th>\n",
       "      <th>author</th>\n",
       "      <th>date</th>\n",
       "    </tr>\n",
       "  </thead>\n",
       "  <tbody>\n",
       "    <tr>\n",
       "      <th>0</th>\n",
       "      <td>Nairaland Forum / Nairaland / General / Politi...</td>\n",
       "      <td>ikorodureporta</td>\n",
       "      <td>6:32am</td>\n",
       "    </tr>\n",
       "    <tr>\n",
       "      <th>1</th>\n",
       "      <td>Nairaland Forum / Entertainment / Sports  / Aj...</td>\n",
       "      <td>naptu2</td>\n",
       "      <td>8:15am On Dec 29</td>\n",
       "    </tr>\n",
       "    <tr>\n",
       "      <th>2</th>\n",
       "      <td>Nairaland Forum / Nairaland / General / Educat...</td>\n",
       "      <td>vicmbosowo</td>\n",
       "      <td>10:01pm On Dec 28</td>\n",
       "    </tr>\n",
       "    <tr>\n",
       "      <th>3</th>\n",
       "      <td>Nairaland Forum / Nairaland / General / Busine...</td>\n",
       "      <td>Palmerbarry</td>\n",
       "      <td>8:10pm On Dec 28</td>\n",
       "    </tr>\n",
       "    <tr>\n",
       "      <th>4</th>\n",
       "      <td>Nairaland Forum / Nairaland / General / Travel...</td>\n",
       "      <td>Easyincome24</td>\n",
       "      <td>10:07am On Dec 28</td>\n",
       "    </tr>\n",
       "    <tr>\n",
       "      <th>...</th>\n",
       "      <td>...</td>\n",
       "      <td>...</td>\n",
       "      <td>...</td>\n",
       "    </tr>\n",
       "    <tr>\n",
       "      <th>24228</th>\n",
       "      <td>Nairaland Forum / Nairaland / General / Travel...</td>\n",
       "      <td>AllNews1</td>\n",
       "      <td>4:45am On Jan 04</td>\n",
       "    </tr>\n",
       "    <tr>\n",
       "      <th>24229</th>\n",
       "      <td>Nairaland Forum / Entertainment / Celebrities ...</td>\n",
       "      <td>hotmediatv</td>\n",
       "      <td>5:31am On Jan 04</td>\n",
       "    </tr>\n",
       "    <tr>\n",
       "      <th>24230</th>\n",
       "      <td>Nairaland Forum / Nairaland / General / Politi...</td>\n",
       "      <td>Sunofgod</td>\n",
       "      <td>1:41am On Jan 04</td>\n",
       "    </tr>\n",
       "    <tr>\n",
       "      <th>24231</th>\n",
       "      <td>Nairaland Forum / Nairaland / General / Politi...</td>\n",
       "      <td>Explorers</td>\n",
       "      <td>9:18pm On Jan 03</td>\n",
       "    </tr>\n",
       "    <tr>\n",
       "      <th>24232</th>\n",
       "      <td>Nairaland Forum / Nairaland / General / Busine...</td>\n",
       "      <td>Osaze007</td>\n",
       "      <td>10:13pm On Jan 03</td>\n",
       "    </tr>\n",
       "  </tbody>\n",
       "</table>\n",
       "<p>24233 rows × 3 columns</p>\n",
       "</div>"
      ],
      "text/plain": [
       "                                                location  ...               date\n",
       "0      Nairaland Forum / Nairaland / General / Politi...  ...             6:32am\n",
       "1      Nairaland Forum / Entertainment / Sports  / Aj...  ...   8:15am On Dec 29\n",
       "2      Nairaland Forum / Nairaland / General / Educat...  ...  10:01pm On Dec 28\n",
       "3      Nairaland Forum / Nairaland / General / Busine...  ...   8:10pm On Dec 28\n",
       "4      Nairaland Forum / Nairaland / General / Travel...  ...  10:07am On Dec 28\n",
       "...                                                  ...  ...                ...\n",
       "24228  Nairaland Forum / Nairaland / General / Travel...  ...   4:45am On Jan 04\n",
       "24229  Nairaland Forum / Entertainment / Celebrities ...  ...   5:31am On Jan 04\n",
       "24230  Nairaland Forum / Nairaland / General / Politi...  ...   1:41am On Jan 04\n",
       "24231  Nairaland Forum / Nairaland / General / Politi...  ...   9:18pm On Jan 03\n",
       "24232  Nairaland Forum / Nairaland / General / Busine...  ...  10:13pm On Jan 03\n",
       "\n",
       "[24233 rows x 3 columns]"
      ]
     },
     "execution_count": 11,
     "metadata": {
      "tags": []
     },
     "output_type": "execute_result"
    }
   ],
   "source": [
    "df_clean"
   ]
  },
  {
   "cell_type": "markdown",
   "metadata": {},
   "source": [
    "Getting the topics"
   ]
  },
  {
   "cell_type": "code",
   "execution_count": null,
   "metadata": {
    "id": "AKKfp8FjUhxn"
   },
   "outputs": [],
   "source": [
    "def Spliting_for_topic(location):\n",
    "    split_s= location.split('/')\n",
    "    try:\n",
    "        reg = '[a-zA-Z\\,\\.0-9\\s\\\"\\-\\'\\:\\;]+\\s*\\(+[0-9]+\\s[A-Za-z]+\\)+'\n",
    "        loc_lists =[(re.findall(reg,x))  for x in split_s]\n",
    "         topic_list =[x[0] for x in yy if len(x) != 0]\n",
    "        topic = ''.join(v)\n",
    "    except:\n",
    "        topic = '9999'\n",
    " \n",
    "    return topic"
   ]
  },
  {
   "cell_type": "code",
   "execution_count": null,
   "metadata": {
    "colab": {
     "background_save": true
    },
    "id": "ZzgISzLlUhxq",
    "outputId": "0eef15fc-2b36-45be-8106-12a57052de16",
    "scrolled": true
   },
   "outputs": [
    {
     "data": {
      "text/plain": [
       "0         Governor Wike Links Opobo Kingdom By Road, Af...\n",
       "1         Ajara Njoya Nchout Joins Atletico Madrid. (13...\n",
       "2         COVID-19 Lockdown: 500 Secondary School Stude...\n",
       "3         How I Got Badly Disgraced By Sokoloan (32733 ...\n",
       "4                                            (10487 Views)\n",
       "                               ...                        \n",
       "24228     Gibram Cruz Mother's Deportation To Mexico By...\n",
       "24229     Hushpuppi And His Son Go For Shopping In Duba...\n",
       "24230     Nnamdi Kanu Reacts To Nigerian Muslims Chanti...\n",
       "24231                                       (116932 Views)\n",
       "24232     Fire Destroys Umuahia Industrial Market (1325...\n",
       "Name: Topic, Length: 24233, dtype: object"
      ]
     },
     "execution_count": 0,
     "metadata": {
      "tags": []
     },
     "output_type": "execute_result"
    }
   ],
   "source": [
    "df_clean['Topic'] = df_clean['location'].apply(Spliting_for_topic)\n",
    "df_clean['Topic']"
   ]
  },
  {
   "cell_type": "markdown",
   "metadata": {},
   "source": [
    "Getting the threads"
   ]
  },
  {
   "cell_type": "code",
   "execution_count": null,
   "metadata": {
    "colab": {
     "background_save": true
    },
    "id": "0Zea3zkf7VBF"
   },
   "outputs": [],
   "source": [
    " def subcat1(x):\n",
    "    thread = x.split('/')\n",
    "    try:\n",
    "        if thread[1]== ' Nairaland ' or thread[1]==' Science':\n",
    "            if len(thread[2])<18:\n",
    "                return thread[2]\n",
    "            else:\n",
    "                return None\n",
    "        \n",
    "        else:\n",
    "            return thread[1]\n",
    "            \n",
    "    except:\n",
    "        return '9999'\n",
    " \n",
    "        \n",
    "def subcat2(x):\n",
    "    thread = x.split('/')\n",
    "    try:\n",
    "        if thread[1]== ' Nairaland ' or thread[1]==' Science':\n",
    "            if len(thread[3])<20:\n",
    "                return thread[3]\n",
    "            else:\n",
    "                return None\n",
    "        \n",
    "        else:\n",
    "            if len(thread[2])<20:\n",
    "                return thread[2]\n",
    "            else:\n",
    "                return None\n",
    "    except:\n",
    "        return '9999'"
   ]
  },
  {
   "cell_type": "code",
   "execution_count": null,
   "metadata": {
    "colab": {
     "background_save": true
    },
    "id": "P-o95aMp7eN1"
   },
   "outputs": [],
   "source": [
    "df_clean['Subcat1'] = df_clean['location'].apply(subcat1)\n",
    "df_clean['Subcat2'] = df_clean['location'].apply(subcat2)"
   ]
  },
  {
   "cell_type": "code",
   "execution_count": null,
   "metadata": {
    "id": "24Op6oate93b"
   },
   "outputs": [],
   "source": [
    "df_clean['Subcat1'] = df_clean['location'].apply(subcat1)\n",
    "df_clean['Subcat2'] = df_clean['location'].apply(subcat2)"
   ]
  },
  {
   "cell_type": "code",
   "execution_count": null,
   "metadata": {
    "colab": {
     "base_uri": "https://localhost:8080/",
     "height": 1000
    },
    "id": "srPy7j1i7nMR",
    "outputId": "450cebfa-2433-4c77-e65d-8b4135eaa720"
   },
   "outputs": [
    {
     "data": {
      "text/html": [
       "<div>\n",
       "<style scoped>\n",
       "    .dataframe tbody tr th:only-of-type {\n",
       "        vertical-align: middle;\n",
       "    }\n",
       "\n",
       "    .dataframe tbody tr th {\n",
       "        vertical-align: top;\n",
       "    }\n",
       "\n",
       "    .dataframe thead th {\n",
       "        text-align: right;\n",
       "    }\n",
       "</style>\n",
       "<table border=\"1\" class=\"dataframe\">\n",
       "  <thead>\n",
       "    <tr style=\"text-align: right;\">\n",
       "      <th></th>\n",
       "      <th>location</th>\n",
       "      <th>author</th>\n",
       "      <th>date</th>\n",
       "      <th>Subcat1</th>\n",
       "      <th>Subcat2</th>\n",
       "    </tr>\n",
       "  </thead>\n",
       "  <tbody>\n",
       "    <tr>\n",
       "      <th>0</th>\n",
       "      <td>Nairaland Forum / Nairaland / General / Politi...</td>\n",
       "      <td>ikorodureporta</td>\n",
       "      <td>6:32am</td>\n",
       "      <td>General</td>\n",
       "      <td>Politics</td>\n",
       "    </tr>\n",
       "    <tr>\n",
       "      <th>1</th>\n",
       "      <td>Nairaland Forum / Entertainment / Sports  / Aj...</td>\n",
       "      <td>naptu2</td>\n",
       "      <td>8:15am On Dec 29</td>\n",
       "      <td>Entertainment</td>\n",
       "      <td>Sports</td>\n",
       "    </tr>\n",
       "    <tr>\n",
       "      <th>2</th>\n",
       "      <td>Nairaland Forum / Nairaland / General / Educat...</td>\n",
       "      <td>vicmbosowo</td>\n",
       "      <td>10:01pm On Dec 28</td>\n",
       "      <td>General</td>\n",
       "      <td>Education</td>\n",
       "    </tr>\n",
       "    <tr>\n",
       "      <th>3</th>\n",
       "      <td>Nairaland Forum / Nairaland / General / Busine...</td>\n",
       "      <td>Palmerbarry</td>\n",
       "      <td>8:10pm On Dec 28</td>\n",
       "      <td>General</td>\n",
       "      <td>Business</td>\n",
       "    </tr>\n",
       "    <tr>\n",
       "      <th>4</th>\n",
       "      <td>Nairaland Forum / Nairaland / General / Travel...</td>\n",
       "      <td>Easyincome24</td>\n",
       "      <td>10:07am On Dec 28</td>\n",
       "      <td>General</td>\n",
       "      <td>Travel</td>\n",
       "    </tr>\n",
       "    <tr>\n",
       "      <th>...</th>\n",
       "      <td>...</td>\n",
       "      <td>...</td>\n",
       "      <td>...</td>\n",
       "      <td>...</td>\n",
       "      <td>...</td>\n",
       "    </tr>\n",
       "    <tr>\n",
       "      <th>24228</th>\n",
       "      <td>Nairaland Forum / Nairaland / General / Travel...</td>\n",
       "      <td>AllNews1</td>\n",
       "      <td>4:45am On Jan 04</td>\n",
       "      <td>General</td>\n",
       "      <td>Travel</td>\n",
       "    </tr>\n",
       "    <tr>\n",
       "      <th>24229</th>\n",
       "      <td>Nairaland Forum / Entertainment / Celebrities ...</td>\n",
       "      <td>hotmediatv</td>\n",
       "      <td>5:31am On Jan 04</td>\n",
       "      <td>Entertainment</td>\n",
       "      <td>Celebrities</td>\n",
       "    </tr>\n",
       "    <tr>\n",
       "      <th>24230</th>\n",
       "      <td>Nairaland Forum / Nairaland / General / Politi...</td>\n",
       "      <td>Sunofgod</td>\n",
       "      <td>1:41am On Jan 04</td>\n",
       "      <td>General</td>\n",
       "      <td>Politics</td>\n",
       "    </tr>\n",
       "    <tr>\n",
       "      <th>24231</th>\n",
       "      <td>Nairaland Forum / Nairaland / General / Politi...</td>\n",
       "      <td>Explorers</td>\n",
       "      <td>9:18pm On Jan 03</td>\n",
       "      <td>General</td>\n",
       "      <td>Politics</td>\n",
       "    </tr>\n",
       "    <tr>\n",
       "      <th>24232</th>\n",
       "      <td>Nairaland Forum / Nairaland / General / Busine...</td>\n",
       "      <td>Osaze007</td>\n",
       "      <td>10:13pm On Jan 03</td>\n",
       "      <td>General</td>\n",
       "      <td>Business</td>\n",
       "    </tr>\n",
       "  </tbody>\n",
       "</table>\n",
       "<p>24233 rows × 5 columns</p>\n",
       "</div>"
      ],
      "text/plain": [
       "                                                location  ...         Subcat2\n",
       "0      Nairaland Forum / Nairaland / General / Politi...  ...      Politics  \n",
       "1      Nairaland Forum / Entertainment / Sports  / Aj...  ...        Sports  \n",
       "2      Nairaland Forum / Nairaland / General / Educat...  ...     Education  \n",
       "3      Nairaland Forum / Nairaland / General / Busine...  ...      Business  \n",
       "4      Nairaland Forum / Nairaland / General / Travel...  ...        Travel  \n",
       "...                                                  ...  ...             ...\n",
       "24228  Nairaland Forum / Nairaland / General / Travel...  ...        Travel  \n",
       "24229  Nairaland Forum / Entertainment / Celebrities ...  ...   Celebrities  \n",
       "24230  Nairaland Forum / Nairaland / General / Politi...  ...      Politics  \n",
       "24231  Nairaland Forum / Nairaland / General / Politi...  ...       Politics \n",
       "24232  Nairaland Forum / Nairaland / General / Busine...  ...      Business  \n",
       "\n",
       "[24233 rows x 5 columns]"
      ]
     },
     "execution_count": 66,
     "metadata": {
      "tags": []
     },
     "output_type": "execute_result"
    }
   ],
   "source": [
    "df_clean"
   ]
  },
  {
   "cell_type": "code",
   "execution_count": null,
   "metadata": {
    "id": "cJ6OFL7A9bw2"
   },
   "outputs": [],
   "source": [
    " df_clean1= df_clean.drop('location', axis=1)"
   ]
  },
  {
   "cell_type": "code",
   "execution_count": null,
   "metadata": {
    "id": "UoOXw4zQ9kDo"
   },
   "outputs": [],
   "source": [
    " df_clean1.to_csv('df34.csv')"
   ]
  }
 ],
 "metadata": {
  "colab": {
   "collapsed_sections": [],
   "name": "Nairaland.ipynb",
   "provenance": []
  },
  "kernelspec": {
   "display_name": "Python 3",
   "language": "python",
   "name": "python3"
  },
  "language_info": {
   "codemirror_mode": {
    "name": "ipython",
    "version": 3
   },
   "file_extension": ".py",
   "mimetype": "text/x-python",
   "name": "python",
   "nbconvert_exporter": "python",
   "pygments_lexer": "ipython3",
   "version": "3.8.5"
  }
 },
 "nbformat": 4,
 "nbformat_minor": 1
}
